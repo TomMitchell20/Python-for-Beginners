{
 "cells": [
  {
   "cell_type": "markdown",
   "metadata": {},
   "source": [
    "# For Loops\n",
    "For loops are used for iterating over sequences, for example: \n",
    " - Strings\n",
    " - Lists\n",
    " - Tuples\n",
    " - Dictionaries\n",
    " - Sets "
   ]
  },
  {
   "cell_type": "code",
   "execution_count": 1,
   "metadata": {},
   "outputs": [],
   "source": [
    "foods = ['Pizza', 'Pasta', 'Ice-Cream']"
   ]
  },
  {
   "cell_type": "markdown",
   "metadata": {},
   "source": [
    "We could manually go through each element and do something to them using indexing: "
   ]
  },
  {
   "cell_type": "code",
   "execution_count": null,
   "metadata": {},
   "outputs": [],
   "source": [
    "print(foods[0])\n",
    "print(foods[1])\n",
    "print(foods[2])"
   ]
  },
  {
   "cell_type": "markdown",
   "metadata": {},
   "source": [
    "But this is not practical if our list has for example 1000 elements. This is where for loops come in handy. The syntax for a \"For Loop\" starts with the \"for\" keyword followed by a variable name that can be anything you want. This variable name will stay the same throughout the loop but its value will change depending on which item is being iterated over at the moment, lets see: "
   ]
  },
  {
   "cell_type": "code",
   "execution_count": 2,
   "metadata": {},
   "outputs": [
    {
     "name": "stdout",
     "output_type": "stream",
     "text": [
      "Pizza\n",
      "Pasta\n",
      "Ice-Cream\n"
     ]
    }
   ],
   "source": [
    "for item in foods: \n",
    "    print(item)"
   ]
  },
  {
   "cell_type": "markdown",
   "metadata": {},
   "source": [
    "In this example, we get the same result, in less lines of code, and we can add or remove as many elements as we want and our for loop will still work. Our variable name,'item' can be any word you choose, go ahead and change it, but make sure to replace it in the print statement too.\n",
    "\n",
    "In our executable code block we do whatever we need, for example what if we wanted to iterate over a list of integers and print out the double of each?"
   ]
  },
  {
   "cell_type": "code",
   "execution_count": 6,
   "metadata": {},
   "outputs": [],
   "source": [
    "nums = [10, 20, 30]"
   ]
  },
  {
   "cell_type": "code",
   "execution_count": 7,
   "metadata": {},
   "outputs": [
    {
     "name": "stdout",
     "output_type": "stream",
     "text": [
      "20\n",
      "40\n",
      "60\n"
     ]
    }
   ],
   "source": [
    "for num in nums: \n",
    "    print(num * 2)"
   ]
  },
  {
   "cell_type": "markdown",
   "metadata": {},
   "source": [
    "We have seen how for loops can iterate over sequences, but we can also iterate over an explicity defined range using pythons range() function.\n"
   ]
  },
  {
   "cell_type": "code",
   "execution_count": 4,
   "metadata": {},
   "outputs": [
    {
     "name": "stdout",
     "output_type": "stream",
     "text": [
      "1\n",
      "2\n",
      "3\n",
      "4\n",
      "5\n",
      "6\n",
      "7\n",
      "8\n",
      "9\n"
     ]
    }
   ],
   "source": [
    "for n in range(1,10):\n",
    "    print(n)"
   ]
  },
  {
   "cell_type": "markdown",
   "metadata": {},
   "source": [
    "We began our for loop as normal by using the for keyword followed by a variable name. We then used the \"in\" keyword to tell python we are about to tell it what to iterate over, in this case, we are specifying a range of numbers so we add the range() function. Inside the range function we provide 2 arguments, a start and an end. If we dont specify a start and provide just 1 integer, python will automatically provide 0 as a start. \n",
    "\n",
    "We can also combine for loops with if statements to check for conditions whilst looping through. Say for example, we want to print out every multiple of 3 between 1 and 100, we can use a combination of a for loop, range function and if statement to achieve this..."
   ]
  },
  {
   "cell_type": "code",
   "execution_count": 3,
   "metadata": {},
   "outputs": [
    {
     "name": "stdout",
     "output_type": "stream",
     "text": [
      "0\n",
      "3\n",
      "6\n",
      "9\n",
      "12\n",
      "15\n",
      "18\n",
      "21\n",
      "24\n",
      "27\n",
      "30\n",
      "33\n",
      "36\n",
      "39\n",
      "42\n",
      "45\n",
      "48\n",
      "51\n",
      "54\n",
      "57\n",
      "60\n",
      "63\n",
      "66\n",
      "69\n",
      "72\n",
      "75\n",
      "78\n",
      "81\n",
      "84\n",
      "87\n",
      "90\n",
      "93\n",
      "96\n",
      "99\n"
     ]
    }
   ],
   "source": [
    "for num in range(100):\n",
    "    if num % 3 == 0:\n",
    "        print(num)"
   ]
  },
  {
   "cell_type": "markdown",
   "metadata": {},
   "source": [
    "## Break and Continue keyword\n",
    "The break statement terminates the loop containing it. It can be useful for controlling your loop statements. For example, if we want loop through a list of people and stop when we reach the one we want, a break keyword can be useful for this"
   ]
  },
  {
   "cell_type": "code",
   "execution_count": 5,
   "metadata": {},
   "outputs": [],
   "source": [
    "names = ['John', 'James', 'Jimmy', 'Jerry']"
   ]
  },
  {
   "cell_type": "code",
   "execution_count": 7,
   "metadata": {},
   "outputs": [
    {
     "name": "stdout",
     "output_type": "stream",
     "text": [
      "Not Jimmy\n",
      "Not Jimmy\n",
      "We found jimmy, we can stop now\n"
     ]
    }
   ],
   "source": [
    "for name in names:\n",
    "    if name == 'Jimmy':\n",
    "        print('We found jimmy, we can stop now')\n",
    "        break\n",
    "    print('Not Jimmy')"
   ]
  },
  {
   "cell_type": "markdown",
   "metadata": {},
   "source": [
    "As you can see, when we find jimmy in our list, we break out of the for loop. If we want to just identify jimmy but then carry on, we can use the continue keyword."
   ]
  },
  {
   "cell_type": "code",
   "execution_count": 9,
   "metadata": {},
   "outputs": [
    {
     "name": "stdout",
     "output_type": "stream",
     "text": [
      "Not Jimmy\n",
      "Not Jimmy\n",
      "We found jimmy, but lets carry on\n",
      "Not Jimmy\n"
     ]
    }
   ],
   "source": [
    "for name in names:\n",
    "    if name == 'Jimmy':\n",
    "        print('We found jimmy, but lets carry on')\n",
    "        continue\n",
    "    print('Not Jimmy')"
   ]
  },
  {
   "cell_type": "code",
   "execution_count": null,
   "metadata": {},
   "outputs": [],
   "source": []
  }
 ],
 "metadata": {
  "kernelspec": {
   "display_name": "Python 3",
   "language": "python",
   "name": "python3"
  },
  "language_info": {
   "codemirror_mode": {
    "name": "ipython",
    "version": 3
   },
   "file_extension": ".py",
   "mimetype": "text/x-python",
   "name": "python",
   "nbconvert_exporter": "python",
   "pygments_lexer": "ipython3",
   "version": "3.7.6"
  }
 },
 "nbformat": 4,
 "nbformat_minor": 4
}

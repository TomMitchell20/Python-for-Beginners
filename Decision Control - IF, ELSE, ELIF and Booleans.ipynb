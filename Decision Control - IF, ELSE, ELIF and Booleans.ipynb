{
 "cells": [
  {
   "cell_type": "markdown",
   "metadata": {},
   "source": [
    "# IF, ELSE, ELIF \n",
    "The \"if\" statement is used to check a condition and if the condition is true, a block of statements are executed (called the if-block), if the condition evalutes to fales right away, we specify what code we want to run insted, in an else block. If we have more than one condition we can include an elif statement (short for else if). True and False form the datatype known as Boolean. \n",
    "\n",
    "First, a word on whitespace. \n",
    "\n",
    "Python is famous among programming languages for its fairly unique syntax: rather than being delimited by curly braces or “begin/end” keywords, blocks are delimited by indentation (or whitespace)."
   ]
  },
  {
   "cell_type": "code",
   "execution_count": 2,
   "metadata": {},
   "outputs": [
    {
     "name": "stdout",
     "output_type": "stream",
     "text": [
      "This is outside\n"
     ]
    }
   ],
   "source": [
    "if False: \n",
    "    print('This is inside our if statement')\n",
    "print('This is outside')"
   ]
  },
  {
   "cell_type": "markdown",
   "metadata": {},
   "source": [
    "Because our condition evaluates to False, the block inside the if statement does not run. And we started our if block by indenting the print statement. The print statement below however, is not part of the if statement because we have not indented it. This means that the if statement will loop through to check the condition, once complete it will move on and print 'This is outside' because this is just a standalone piece of code.\n",
    "\n",
    "Whitespace works with tabs, if I were to indent the second print statement with one space, it would flag an error. And the same with two and 3 spaces, but with 4, our print statement becomes part of our if statement because it aligns with the recognised indent amount (4 spaces is the same as a tab). If we run this now nothing executes because our if statement evaluates to False. If we change it to True, both should execute. \n",
    "\n",
    "## Conditions\n",
    "Blocks of code within if statements are executed based on conditions. We have already been through conditions supported in python but here is a refresher: \n",
    "\n",
    "    - Equals: a == b\n",
    "    - Not Equals: a != b\n",
    "    - Less than: a < b\n",
    "    - Less than or equal to: a <= b\n",
    "    - Greater than: a > b\n",
    "    - Greater than or equal to: a >= b\n",
    "    \n",
    "Lets build our first IF statement"
   ]
  },
  {
   "cell_type": "code",
   "execution_count": 11,
   "metadata": {},
   "outputs": [
    {
     "name": "stdout",
     "output_type": "stream",
     "text": [
      "10 is more than 5\n"
     ]
    }
   ],
   "source": [
    "if 10 > 5:\n",
    "    print('10 is more than 5')\n",
    "else:\n",
    "    print('5 is more than 10')"
   ]
  },
  {
   "cell_type": "markdown",
   "metadata": {},
   "source": [
    "More often than not, you will use variables in your if statement condition to handle dynamism, lets see how this works"
   ]
  },
  {
   "cell_type": "code",
   "execution_count": 4,
   "metadata": {},
   "outputs": [],
   "source": [
    "a = 10\n",
    "b = 10"
   ]
  },
  {
   "cell_type": "code",
   "execution_count": 14,
   "metadata": {},
   "outputs": [
    {
     "name": "stdout",
     "output_type": "stream",
     "text": [
      "a and b are equal\n"
     ]
    }
   ],
   "source": [
    "if a == b:\n",
    "    print('a and b are equal')\n",
    "else:\n",
    "    print('a and b are not equal')"
   ]
  },
  {
   "cell_type": "markdown",
   "metadata": {},
   "source": [
    "If you only want to check for a condition being True, we don't have to include an else statement at all. Else keyword catches anything which isn't caught by the preceding conditions. If the condition evalues to False, python will continue executing whatever code is next outside of the if statement, or if there's nothing there, it will finish. \n",
    "\n",
    "We can also use multiple conditions, as long as we include a logical operator."
   ]
  },
  {
   "cell_type": "code",
   "execution_count": 15,
   "metadata": {},
   "outputs": [
    {
     "name": "stdout",
     "output_type": "stream",
     "text": [
      "a is equal to be or a is greater than b\n"
     ]
    }
   ],
   "source": [
    "if a == b or a > b:\n",
    "    print('a is equal to be or a is greater than b')"
   ]
  },
  {
   "cell_type": "markdown",
   "metadata": {},
   "source": [
    "## ELIF\n",
    "The elif keyword is pythons way of saying \"if the previous conditions were not true, then try this condition\". The above code is basically an if elif statement and can be written a longer way (you would usually opt to write shorter, more consise code in practice, but for the purpose of this tutorial I will write it out in long)"
   ]
  },
  {
   "cell_type": "code",
   "execution_count": 3,
   "metadata": {},
   "outputs": [
    {
     "ename": "NameError",
     "evalue": "name 'a' is not defined",
     "output_type": "error",
     "traceback": [
      "\u001b[0;31m---------------------------------------------------------------------------\u001b[0m",
      "\u001b[0;31mNameError\u001b[0m                                 Traceback (most recent call last)",
      "\u001b[0;32m<ipython-input-3-25af2a984a25>\u001b[0m in \u001b[0;36m<module>\u001b[0;34m\u001b[0m\n\u001b[0;32m----> 1\u001b[0;31m \u001b[0;32mif\u001b[0m \u001b[0ma\u001b[0m \u001b[0;34m==\u001b[0m \u001b[0mb\u001b[0m\u001b[0;34m:\u001b[0m\u001b[0;34m\u001b[0m\u001b[0;34m\u001b[0m\u001b[0m\n\u001b[0m\u001b[1;32m      2\u001b[0m     \u001b[0mprint\u001b[0m\u001b[0;34m(\u001b[0m\u001b[0;34m'a is equal to b'\u001b[0m\u001b[0;34m)\u001b[0m\u001b[0;34m\u001b[0m\u001b[0;34m\u001b[0m\u001b[0m\n\u001b[1;32m      3\u001b[0m \u001b[0;32melif\u001b[0m \u001b[0ma\u001b[0m \u001b[0;34m>\u001b[0m \u001b[0mb\u001b[0m\u001b[0;34m:\u001b[0m\u001b[0;34m\u001b[0m\u001b[0;34m\u001b[0m\u001b[0m\n\u001b[1;32m      4\u001b[0m     \u001b[0mprint\u001b[0m\u001b[0;34m(\u001b[0m\u001b[0;34m' a is greater than b'\u001b[0m\u001b[0;34m)\u001b[0m\u001b[0;34m\u001b[0m\u001b[0;34m\u001b[0m\u001b[0m\n\u001b[1;32m      5\u001b[0m \u001b[0;32melse\u001b[0m\u001b[0;34m:\u001b[0m\u001b[0;34m\u001b[0m\u001b[0;34m\u001b[0m\u001b[0m\n",
      "\u001b[0;31mNameError\u001b[0m: name 'a' is not defined"
     ]
    }
   ],
   "source": [
    "if a == b:\n",
    "    print('a is equal to b')\n",
    "elif a > b:\n",
    "    print(' a is greater than b')\n",
    "else:\n",
    "    print('neither condition was met')"
   ]
  },
  {
   "cell_type": "markdown",
   "metadata": {},
   "source": [
    "## Shorthand IF\n",
    "If you only have one statement to execute, in other words one if and one else statement, you can merge the two into one line: "
   ]
  },
  {
   "cell_type": "code",
   "execution_count": 5,
   "metadata": {},
   "outputs": [
    {
     "name": "stdout",
     "output_type": "stream",
     "text": [
      "This is the else part\n"
     ]
    }
   ],
   "source": [
    "print(\"This is the if part\") if a > b else print(\"This is the else part\")"
   ]
  },
  {
   "cell_type": "markdown",
   "metadata": {},
   "source": [
    "## AND (&)\n",
    "The AND operator is a logical operator and can take the form of either AND (easier to read in my opinion) or &. This is used to test if both conditions are True."
   ]
  },
  {
   "cell_type": "code",
   "execution_count": 10,
   "metadata": {},
   "outputs": [],
   "source": [
    "a = 10\n",
    "b = 20\n",
    "c = 40"
   ]
  },
  {
   "cell_type": "code",
   "execution_count": 16,
   "metadata": {},
   "outputs": [
    {
     "name": "stdout",
     "output_type": "stream",
     "text": [
      "a is less than c, and c is greater than b\n"
     ]
    }
   ],
   "source": [
    "if a < c and c > b:\n",
    "    print('a is less than c, and c is greater than b')"
   ]
  },
  {
   "cell_type": "markdown",
   "metadata": {},
   "source": [
    "## OR (|)\n",
    "Used to test if either statements are true. Can take the for of \"or\" or \"|\""
   ]
  },
  {
   "cell_type": "code",
   "execution_count": 17,
   "metadata": {},
   "outputs": [
    {
     "name": "stdout",
     "output_type": "stream",
     "text": [
      "One of these conditions is true\n"
     ]
    }
   ],
   "source": [
    "if a > c or b < c:\n",
    "    print('One of these conditions is true')"
   ]
  },
  {
   "cell_type": "markdown",
   "metadata": {},
   "source": [
    "## Nested IF Statements\n",
    "You can have an IF statement inside an IF statement, which is known as a nested IF."
   ]
  },
  {
   "cell_type": "code",
   "execution_count": 18,
   "metadata": {},
   "outputs": [],
   "source": [
    "a = 20 "
   ]
  },
  {
   "cell_type": "code",
   "execution_count": 19,
   "metadata": {},
   "outputs": [
    {
     "name": "stdout",
     "output_type": "stream",
     "text": [
      "a is greater than 10\n",
      "a is also less than or equal to 20\n"
     ]
    }
   ],
   "source": [
    "if a > 10:\n",
    "    print('a is greater than 10')\n",
    "    if a <= 20:\n",
    "        print('a is also less than or equal to 20')\n",
    "    else: \n",
    "        print('a is not greater than or equal to 20')"
   ]
  },
  {
   "cell_type": "code",
   "execution_count": null,
   "metadata": {},
   "outputs": [],
   "source": []
  }
 ],
 "metadata": {
  "kernelspec": {
   "display_name": "Python 3",
   "language": "python",
   "name": "python3"
  },
  "language_info": {
   "codemirror_mode": {
    "name": "ipython",
    "version": 3
   },
   "file_extension": ".py",
   "mimetype": "text/x-python",
   "name": "python",
   "nbconvert_exporter": "python",
   "pygments_lexer": "ipython3",
   "version": "3.7.6"
  }
 },
 "nbformat": 4,
 "nbformat_minor": 4
}

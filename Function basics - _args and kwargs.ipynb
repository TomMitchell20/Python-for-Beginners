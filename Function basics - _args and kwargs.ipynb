{
 "cells": [
  {
   "cell_type": "markdown",
   "metadata": {},
   "source": [
    "# Functions \n",
    "## What are functions?\n",
    "Functions are a convenient way to divide your code into useful blocks, allowing us to order our code, make it more readable, reuse it and save some time. Functions are useful because it saves us having to rewrite code, you can split more complex problems into manageable pieces and improves the clarity of your code. \n",
    "\n",
    "## How do we create a function\n",
    "Functions in python are defined using the block keyword \"def\", followed with the function's name. Functions may also receive arguments (variables passed from the caller to the function) and ending with a colon. Then we can write our executable code block. When we run that, we can then call that function at another time, lets see how they work..."
   ]
  },
  {
   "cell_type": "code",
   "execution_count": 1,
   "metadata": {},
   "outputs": [],
   "source": [
    "def basic_greeting():\n",
    "    print('This is a basic greeting')"
   ]
  },
  {
   "cell_type": "code",
   "execution_count": 2,
   "metadata": {},
   "outputs": [
    {
     "name": "stdout",
     "output_type": "stream",
     "text": [
      "We will print this message everytime we call the function\n"
     ]
    }
   ],
   "source": [
    "print_greeting()"
   ]
  },
  {
   "cell_type": "markdown",
   "metadata": {},
   "source": [
    "If we want to personalise our greeting, we can add some arguments when defining our function.."
   ]
  },
  {
   "cell_type": "code",
   "execution_count": 10,
   "metadata": {},
   "outputs": [],
   "source": [
    "def print_personal_greeting(firstname, lastname):\n",
    "    print(f'Hello {firstname} {lastname}, this is your personalised greeting')"
   ]
  },
  {
   "cell_type": "code",
   "execution_count": 11,
   "metadata": {},
   "outputs": [
    {
     "name": "stdout",
     "output_type": "stream",
     "text": [
      "Hello John Smith, this is your personalised greeting\n"
     ]
    }
   ],
   "source": [
    "print_personal_greeting('John','Smith')"
   ]
  },
  {
   "cell_type": "markdown",
   "metadata": {},
   "source": [
    "We can also take arguments and perform operations on them."
   ]
  },
  {
   "cell_type": "code",
   "execution_count": 12,
   "metadata": {},
   "outputs": [],
   "source": [
    "def square_num(number):\n",
    "    number **= 2\n",
    "    print(number)"
   ]
  },
  {
   "cell_type": "code",
   "execution_count": 16,
   "metadata": {},
   "outputs": [
    {
     "name": "stdout",
     "output_type": "stream",
     "text": [
      "16\n"
     ]
    }
   ],
   "source": [
    "square_num(4)"
   ]
  },
  {
   "cell_type": "markdown",
   "metadata": {},
   "source": [
    "If we do not provide an argument an error will appear. You can set default values to ensure that if no argument is given, the function is passed a default value.\n",
    "## Default arguments"
   ]
  },
  {
   "cell_type": "code",
   "execution_count": 17,
   "metadata": {},
   "outputs": [],
   "source": [
    "def square_num_with_default(number=2):\n",
    "    number **= 2\n",
    "    print(number)"
   ]
  },
  {
   "cell_type": "code",
   "execution_count": 19,
   "metadata": {},
   "outputs": [
    {
     "name": "stdout",
     "output_type": "stream",
     "text": [
      "16\n"
     ]
    }
   ],
   "source": [
    "square_num_with_default()"
   ]
  },
  {
   "cell_type": "markdown",
   "metadata": {},
   "source": [
    "## Variable length arguments - *args\n",
    "You may need to process a function for more arguments than you specified while defining the function. An asterisk (*) is placed before the variable name that holds the values of all nonkeyword variable arguments. Python stores these arguments in a tuple for us to iterate over. "
   ]
  },
  {
   "cell_type": "code",
   "execution_count": 49,
   "metadata": {},
   "outputs": [],
   "source": [
    "def sum_nums(*args):\n",
    "    print('args are stored in a ' + str(type(args)))\n",
    "    counter = 0\n",
    "    for var in args:\n",
    "        counter += var\n",
    "    return counter"
   ]
  },
  {
   "cell_type": "code",
   "execution_count": 50,
   "metadata": {},
   "outputs": [
    {
     "name": "stdout",
     "output_type": "stream",
     "text": [
      "args are stored in a <class 'tuple'>\n"
     ]
    },
    {
     "data": {
      "text/plain": [
       "60"
      ]
     },
     "execution_count": 50,
     "metadata": {},
     "output_type": "execute_result"
    }
   ],
   "source": [
    "sum_nums(10,20,30)"
   ]
  },
  {
   "cell_type": "markdown",
   "metadata": {},
   "source": [
    "This function takes arguments of variable length meaning we can add as many as we want. Then we give the user a message saying we are going to start summing the numbers passed. We then declare a variable called counter to keep track of our total. Then we use a for loop to loop through all the arguments and add the values to our counter. Then once we have looped through our arguments, we return the result to show the caller.\n",
    "\n",
    "You can use any name rather than args, but it keeps things easier to read."
   ]
  },
  {
   "cell_type": "markdown",
   "metadata": {},
   "source": [
    "## kwargs\n",
    "Python can accept multiple keyword arguments, better known as **kwargs. It behaves similarly to *args, but stores the arguments in a dictionary instead of tuples. We use ** to tell python we are going to be passing keyworded, variable length argument list. "
   ]
  },
  {
   "cell_type": "code",
   "execution_count": 51,
   "metadata": {},
   "outputs": [],
   "source": [
    "def colours_dict(**kwargs):\n",
    "    print(kwargs)"
   ]
  },
  {
   "cell_type": "code",
   "execution_count": 52,
   "metadata": {},
   "outputs": [
    {
     "name": "stdout",
     "output_type": "stream",
     "text": [
      "{'red': 'Red', 'blue': 'Blue', 'yellow': 'Yellow'}\n"
     ]
    }
   ],
   "source": [
    "colours_dict(red = 'Red', blue = 'Blue', yellow = 'Yellow')"
   ]
  },
  {
   "cell_type": "markdown",
   "metadata": {},
   "source": [
    "Because we store kwargs in a dictionary, we can iterate over that dictionary as we have previously"
   ]
  },
  {
   "cell_type": "code",
   "execution_count": 54,
   "metadata": {},
   "outputs": [],
   "source": [
    "def shop_inventory(**kwargs):\n",
    "        for item, price in kwargs.items():\n",
    "            print('item = ' , item)\n",
    "            print('price = ', price)\n"
   ]
  },
  {
   "cell_type": "code",
   "execution_count": 55,
   "metadata": {},
   "outputs": [
    {
     "name": "stdout",
     "output_type": "stream",
     "text": [
      "item =  apple\n",
      "price =  0.2\n",
      "item =  banana\n",
      "price =  0.3\n",
      "item =  grapes\n",
      "price =  0.5\n"
     ]
    }
   ],
   "source": [
    "shop_inventory(apple = 0.2, banana = 0.3, grapes = 0.5)"
   ]
  },
  {
   "cell_type": "markdown",
   "metadata": {},
   "source": [
    "## Combine *args and kwargs\n",
    "You can also combine args and kwargs in one function:"
   ]
  },
  {
   "cell_type": "code",
   "execution_count": 56,
   "metadata": {},
   "outputs": [],
   "source": [
    "def args_and_kwargs(*args,**kwargs): \n",
    "    print(\"args: \", args) \n",
    "    print(\"kwargs: \", kwargs) "
   ]
  },
  {
   "cell_type": "code",
   "execution_count": 57,
   "metadata": {},
   "outputs": [
    {
     "name": "stdout",
     "output_type": "stream",
     "text": [
      "args:  ('arg1', 'arg2')\n",
      "kwargs:  {'kwarg1': 'kwarg1', 'kwarg2': 'kwarg2'}\n"
     ]
    }
   ],
   "source": [
    "args_and_kwargs('arg1','arg2', kwarg1 = 'kwarg1', kwarg2 = 'kwarg2')"
   ]
  },
  {
   "cell_type": "code",
   "execution_count": null,
   "metadata": {},
   "outputs": [],
   "source": []
  }
 ],
 "metadata": {
  "kernelspec": {
   "display_name": "Python 3",
   "language": "python",
   "name": "python3"
  },
  "language_info": {
   "codemirror_mode": {
    "name": "ipython",
    "version": 3
   },
   "file_extension": ".py",
   "mimetype": "text/x-python",
   "name": "python",
   "nbconvert_exporter": "python",
   "pygments_lexer": "ipython3",
   "version": "3.7.6"
  }
 },
 "nbformat": 4,
 "nbformat_minor": 4
}
